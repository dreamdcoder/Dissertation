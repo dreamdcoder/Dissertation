{
 "cells": [
  {
   "cell_type": "code",
   "execution_count": null,
   "metadata": {},
   "outputs": [],
   "source": [
    "while True:\n",
    "    try:\n",
    "        num1 = int(input(\"Enter First Number:  \"))\n",
    "        num2 = int(input(\"Enter Second Number:  \")) \n",
    "        div = num1 / num2\n",
    "    except ValueError:\n",
    "        print(\"Both numbers must be integers\")\n",
    "    except ZeroDivisionError:\n",
    "        print(\"Denominator must be a non zero\")\n",
    "    else:\n",
    "        print(f'{num1:<2.2f} divided by {num2:<2.2f} is {div:>2.2f}')\n",
    "        break;\n",
    "               "
   ]
  },
  {
   "cell_type": "code",
   "execution_count": null,
   "metadata": {},
   "outputs": [],
   "source": []
  }
 ],
 "metadata": {
  "kernelspec": {
   "display_name": "Python 3",
   "language": "python",
   "name": "python3"
  },
  "language_info": {
   "codemirror_mode": {
    "name": "ipython",
    "version": 3
   },
   "file_extension": ".py",
   "mimetype": "text/x-python",
   "name": "python",
   "nbconvert_exporter": "python",
   "pygments_lexer": "ipython3",
   "version": "3.7.6"
  }
 },
 "nbformat": 4,
 "nbformat_minor": 4
}
