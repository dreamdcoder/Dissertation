{
 "cells": [
  {
   "cell_type": "markdown",
   "metadata": {},
   "source": [
    "with open() uses resources and give back i.e. files areopened and closed automatically after opertion"
   ]
  },
  {
   "cell_type": "code",
   "execution_count": 1,
   "metadata": {},
   "outputs": [],
   "source": [
    "with open('accounts.txt',mode='w') as accounts:\n",
    "    accounts.write('100 Jones 14.98\\n')\n",
    "    accounts.write('200 Doe 345.67\\n')\n",
    "    accounts.write('300 White 14.98\\n')\n",
    "    accounts.write('400 Stones 45.67\\n')\n",
    "    accounts.write('500 Rich 114.98\\n')\n",
    "    accounts.write('600 Sir 35.67\\n')\n",
    "                   "
   ]
  },
  {
   "cell_type": "code",
   "execution_count": 2,
   "metadata": {},
   "outputs": [],
   "source": [
    "!more accounts.txt"
   ]
  },
  {
   "cell_type": "code",
   "execution_count": 3,
   "metadata": {},
   "outputs": [
    {
     "name": "stdout",
     "output_type": "stream",
     "text": [
      "Account   Name         Balance\n",
      "100       Jones          14.98\n",
      "200       Doe           345.67\n",
      "300       White          14.98\n",
      "400       Stones         45.67\n",
      "500       Rich          114.98\n",
      "600       Sir            35.67\n"
     ]
    }
   ],
   "source": [
    "with open('accounts.txt',mode='r') as accounts:\n",
    "    print(f'{\"Account\":<10}{\"Name\":<10}{\"Balance\":>10}')\n",
    "    for record in accounts: #file objects are iterable accessing data on demand as you are only accessing one line at a time \n",
    "                            #where as readlines will read complete file and return list of lines\n",
    "        account,name,balance= record.split()#unpack each record\n",
    "        print(f'{account:<10}{name:<10}{balance:>10}')"
   ]
  },
  {
   "cell_type": "code",
   "execution_count": 4,
   "metadata": {},
   "outputs": [],
   "source": [
    "accounts =open('accounts.txt',mode='r')\n",
    "temp_file = open('temp_file.txt',mode='w')\n",
    "\n",
    "with accounts ,temp_file:\n",
    "    for record in accounts:\n",
    "        account,name,balance= record.split()\n",
    "        #print(account)\n",
    "        if account!='300':\n",
    "            #print(account)\n",
    "            temp_file.write(record)\n",
    "        else:\n",
    "            new_record =' '.join([account,'Will',balance])\n",
    "            #print(new_record)\n",
    "            temp_file.write(new_record +'\\n')"
   ]
  },
  {
   "cell_type": "code",
   "execution_count": 5,
   "metadata": {},
   "outputs": [
    {
     "name": "stdout",
     "output_type": "stream",
     "text": [
      "100 Jones 14.98\n",
      "200 Doe 345.67\n",
      "300 Will 14.98\n",
      "400 Stones 45.67\n",
      "500 Rich 114.98\n",
      "600 Sir 35.67\n"
     ]
    }
   ],
   "source": [
    "!more temp_file.txt"
   ]
  },
  {
   "cell_type": "code",
   "execution_count": 6,
   "metadata": {},
   "outputs": [
    {
     "ename": "FileExistsError",
     "evalue": "[WinError 183] Cannot create a file when that file already exists: 'accounts.txt' -> 'accounts.txt.bkp'",
     "output_type": "error",
     "traceback": [
      "\u001b[1;31m---------------------------------------------------------------------------\u001b[0m",
      "\u001b[1;31mFileExistsError\u001b[0m                           Traceback (most recent call last)",
      "\u001b[1;32m<ipython-input-6-dbe769264fe5>\u001b[0m in \u001b[0;36m<module>\u001b[1;34m\u001b[0m\n\u001b[0;32m      1\u001b[0m \u001b[1;32mimport\u001b[0m \u001b[0mos\u001b[0m\u001b[1;33m\u001b[0m\u001b[1;33m\u001b[0m\u001b[0m\n\u001b[0;32m      2\u001b[0m \u001b[1;33m\u001b[0m\u001b[0m\n\u001b[1;32m----> 3\u001b[1;33m \u001b[0mos\u001b[0m\u001b[1;33m.\u001b[0m\u001b[0mrename\u001b[0m\u001b[1;33m(\u001b[0m\u001b[1;34m'accounts.txt'\u001b[0m\u001b[1;33m,\u001b[0m\u001b[1;34m'accounts.txt.bkp'\u001b[0m\u001b[1;33m)\u001b[0m\u001b[1;33m\u001b[0m\u001b[1;33m\u001b[0m\u001b[0m\n\u001b[0m\u001b[0;32m      4\u001b[0m \u001b[0mos\u001b[0m\u001b[1;33m.\u001b[0m\u001b[0mrename\u001b[0m\u001b[1;33m(\u001b[0m\u001b[1;34m'temp_file.txt'\u001b[0m\u001b[1;33m,\u001b[0m\u001b[1;34m'accounts.txt'\u001b[0m\u001b[1;33m)\u001b[0m\u001b[1;33m\u001b[0m\u001b[1;33m\u001b[0m\u001b[0m\n",
      "\u001b[1;31mFileExistsError\u001b[0m: [WinError 183] Cannot create a file when that file already exists: 'accounts.txt' -> 'accounts.txt.bkp'"
     ]
    }
   ],
   "source": [
    "import os\n",
    "\n",
    "os.rename('accounts.txt','accounts.txt.bkp')\n",
    "os.rename('temp_file.txt','accounts.txt')"
   ]
  },
  {
   "cell_type": "code",
   "execution_count": 7,
   "metadata": {},
   "outputs": [
    {
     "name": "stdout",
     "output_type": "stream",
     "text": [
      " Volume in drive C is OSDisk\n",
      " Volume Serial Number is DE7A-EBF5\n",
      "\n",
      " Directory of C:\\Users\\yogeshja\\Desktop\\Dissertation\n",
      "\n",
      "05/01/2021  11:02 PM    <DIR>          .\n",
      "05/01/2021  11:02 PM    <DIR>          ..\n",
      "05/01/2021  01:57 PM    <DIR>          .idea\n",
      "05/01/2021  10:27 PM    <DIR>          .ipynb_checkpoints\n",
      "05/01/2021  11:03 PM               100 accounts.txt\n",
      "05/01/2021  10:34 PM               100 accounts.txt.bkp\n",
      "04/18/2021  04:07 PM               390 datagen.py\n",
      "05/01/2021  11:02 PM             8,128 File IO.ipynb\n",
      "04/24/2021  12:02 PM             1,247 game_of_chance.py\n",
      "04/25/2021  11:22 PM               312 liststut.py\n",
      "05/01/2021  07:01 PM             8,020 RE.ipynb\n",
      "04/25/2021  01:35 AM             1,589 rolling_dice.py\n",
      "04/26/2021  06:52 PM             1,247 rolling_dice_animated.py\n",
      "05/01/2021  06:21 PM             9,096 String.ipynb\n",
      "04/17/2021  02:37 PM            11,250 syn_gen.conf\n",
      "04/17/2021  02:33 PM            28,191 syn_gen.py\n",
      "05/01/2021  11:03 PM                99 temp_file.txt\n",
      "04/17/2021  02:51 PM           165,266 timed.html\n",
      "05/01/2021  03:45 PM                 0 untitled\n",
      "05/01/2021  01:57 PM               458 x1.py\n",
      "              16 File(s)        235,493 bytes\n",
      "               4 Dir(s)  35,806,326,784 bytes free\n"
     ]
    }
   ],
   "source": [
    "!dir"
   ]
  },
  {
   "cell_type": "code",
   "execution_count": 8,
   "metadata": {},
   "outputs": [],
   "source": [
    "account =open('accounts.txt',mode='r')\n",
    "temp_file = open('temp_file.txt',mode='w')"
   ]
  },
  {
   "cell_type": "code",
   "execution_count": 9,
   "metadata": {},
   "outputs": [],
   "source": [
    "\n",
    "\n",
    "with account,temp_file:\n",
    "    for record in account:\n",
    "        account,name,balance= record.split()\n",
    "        if name!='Doe':\n",
    "            temp_file.write(record)\n",
    "        else:\n",
    "            new_record =' '.join([account,'Smith',balance])+'\\n'\n",
    "            temp_file.write(new_record)\n",
    "        \n",
    "            "
   ]
  },
  {
   "cell_type": "code",
   "execution_count": 10,
   "metadata": {},
   "outputs": [
    {
     "name": "stdout",
     "output_type": "stream",
     "text": [
      "100 Jones 14.98\n",
      "200 Smith 345.67\n",
      "300 White 14.98\n",
      "400 Stones 45.67\n",
      "500 Rich 114.98\n",
      "600 Sir 35.67\n"
     ]
    }
   ],
   "source": [
    "! more temp_file.txt"
   ]
  },
  {
   "cell_type": "code",
   "execution_count": 13,
   "metadata": {},
   "outputs": [],
   "source": [
    "os.rename('accounts.txt','accounts.txt.bkp')\n",
    "os.rename('temp_file.txt','accounts.txt')"
   ]
  },
  {
   "cell_type": "code",
   "execution_count": 14,
   "metadata": {},
   "outputs": [
    {
     "name": "stdout",
     "output_type": "stream",
     "text": [
      "100 Jones 14.98\n",
      "200 Smith 345.67\n",
      "300 White 14.98\n",
      "400 Stones 45.67\n",
      "500 Rich 114.98\n",
      "600 Sir 35.67\n"
     ]
    }
   ],
   "source": [
    "! more accounts.txt"
   ]
  },
  {
   "cell_type": "code",
   "execution_count": null,
   "metadata": {},
   "outputs": [],
   "source": []
  }
 ],
 "metadata": {
  "kernelspec": {
   "display_name": "Python 3",
   "language": "python",
   "name": "python3"
  },
  "language_info": {
   "codemirror_mode": {
    "name": "ipython",
    "version": 3
   },
   "file_extension": ".py",
   "mimetype": "text/x-python",
   "name": "python",
   "nbconvert_exporter": "python",
   "pygments_lexer": "ipython3",
   "version": "3.7.6"
  }
 },
 "nbformat": 4,
 "nbformat_minor": 4
}
